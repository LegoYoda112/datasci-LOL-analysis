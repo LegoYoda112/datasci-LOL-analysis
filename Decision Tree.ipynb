{
 "cells": [
  {
   "cell_type": "code",
   "execution_count": 9,
   "metadata": {},
   "outputs": [],
   "source": [
    "from matplotlib import pyplot as plt\n",
    "import numpy as np\n",
    "import pandas as pd\n",
    "# print(pd.__version__)\n",
    "import leaguedata as ld\n",
    "from sklearn.model_selection import train_test_split\n",
    "\n",
    "#Progress bars wooo\n",
    "from ipywidgets import IntProgress\n",
    "from IPython.display import display\n",
    "from IPython.display import Markdown"
   ]
  },
  {
   "cell_type": "code",
   "execution_count": 10,
   "metadata": {},
   "outputs": [
    {
     "name": "stdout",
     "output_type": "stream",
     "text": [
      "0.20007955449482895 0.799920445505171\n"
     ]
    }
   ],
   "source": [
    "data = pd.read_csv(\"final_data_1.csv\")\n",
    "data\n",
    "\n",
    "y = data['Blue win'].values\n",
    "X = data.drop(['Blue win','Address'], axis=1)\n",
    "X_train, X_test, y_train, y_test = train_test_split(X, y, random_state=0, test_size=0.2)\n",
    "print(len(X_test)/len(X), len(X_train)/len(X))"
   ]
  },
  {
   "cell_type": "code",
   "execution_count": 11,
   "metadata": {},
   "outputs": [],
   "source": [
    "from sklearn.tree import DecisionTreeClassifier"
   ]
  },
  {
   "cell_type": "code",
   "execution_count": 37,
   "metadata": {},
   "outputs": [
    {
     "name": "stdout",
     "output_type": "stream",
     "text": [
      "0.7442014579191517\n"
     ]
    }
   ],
   "source": [
    "#tree_depth = 3\n",
    "clf1 = DecisionTreeClassifier(max_depth = 20000, min_impurity_decrease=0)\n",
    "clf1.fit(X_train, y_train)\n",
    "\n",
    "correct = sum(y_test == clf1.predict(X_test))\n",
    "total = len(X_test)\n",
    "\n",
    "\n",
    "print(correct/total)"
   ]
  },
  {
   "cell_type": "code",
   "execution_count": 38,
   "metadata": {},
   "outputs": [
    {
     "name": "stdout",
     "output_type": "stream",
     "text": [
      "Accuracy score: 0.7442014579191517\n",
      "Precision score: 0.7417783191230207\n",
      "Recall score: 0.7777777777777778\n"
     ]
    }
   ],
   "source": [
    "from sklearn.metrics import accuracy_score, precision_score, recall_score\n",
    "# your code here\n",
    "y_true = y_test\n",
    "y_pred = clf1.predict(X_test)\n",
    "\n",
    "print(\"Accuracy score: \" + str(accuracy_score(y_true, y_pred)))\n",
    "print(\"Precision score: \" + str(precision_score(y_true, y_pred)))\n",
    "print(\"Recall score: \" + str(recall_score(y_true, y_pred)))"
   ]
  },
  {
   "cell_type": "code",
   "execution_count": 40,
   "metadata": {},
   "outputs": [
    {
     "data": {
      "text/plain": [
       "'test-output\\\\holy-grenade.gv.pdf'"
      ]
     },
     "execution_count": 40,
     "metadata": {},
     "output_type": "execute_result"
    }
   ],
   "source": [
    "# graphing stuff\n",
    "import sklearn.tree as tree\n",
    "import graphviz\n",
    "dot_data = tree.export_graphviz(clf1, out_file=None)\n",
    "graph = graphviz.Source(dot_data)\n",
    "predictors = X_train.columns\n",
    "dot_data = tree.export_graphviz(clf1, out_file=None, feature_names = predictors, filled = True, rounded = True, special_characters = True)\n",
    "graph = graphviz.Source(dot_data)\n",
    "graph.render('test-output/holy-grenade.gv', view=True)  "
   ]
  },
  {
   "cell_type": "code",
   "execution_count": null,
   "metadata": {},
   "outputs": [],
   "source": []
  }
 ],
 "metadata": {
  "kernelspec": {
   "display_name": "Python 3",
   "language": "python",
   "name": "python3"
  },
  "language_info": {
   "codemirror_mode": {
    "name": "ipython",
    "version": 3
   },
   "file_extension": ".py",
   "mimetype": "text/x-python",
   "name": "python",
   "nbconvert_exporter": "python",
   "pygments_lexer": "ipython3",
   "version": "3.7.3"
  }
 },
 "nbformat": 4,
 "nbformat_minor": 4
}
