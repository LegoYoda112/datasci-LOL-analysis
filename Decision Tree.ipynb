{
 "cells": [
  {
   "cell_type": "code",
   "execution_count": 2,
   "metadata": {},
   "outputs": [],
   "source": [
    "from matplotlib import pyplot as plt\n",
    "import numpy as np\n",
    "import pandas as pd\n",
    "# print(pd.__version__)\n",
    "import leaguedata as ld\n",
    "from sklearn.model_selection import train_test_split\n",
    "\n",
    "#Progress bars wooo\n",
    "from ipywidgets import IntProgress\n",
    "from IPython.display import display\n",
    "from IPython.display import Markdown"
   ]
  },
  {
   "cell_type": "code",
   "execution_count": 7,
   "metadata": {},
   "outputs": [
    {
     "name": "stdout",
     "output_type": "stream",
     "text": [
      "Splitting: 21577 samples\n",
      "0.20002780738749595 0.7999721926125041\n"
     ]
    }
   ],
   "source": [
    "data1 = pd.read_csv(\"final_data_1.csv\")\n",
    "data2 = pd.read_csv(\"final_data_2.csv\")\n",
    "data = data1.append(data2)\n",
    "data = data[data['Minute'] > 0]\n",
    "\n",
    "print(\"Splitting: \" + str(len(data)) + \" samples\")\n",
    "\n",
    "y = data['Blue win'].values\n",
    "X = data.drop(['Blue win','Address'], axis=1)\n",
    "X_train, X_test, y_train, y_test = train_test_split(X, y, random_state=0, test_size=0.2)\n",
    "print(len(X_test)/len(X), len(X_train)/len(X))"
   ]
  },
  {
   "cell_type": "code",
   "execution_count": 4,
   "metadata": {},
   "outputs": [],
   "source": [
    "from sklearn.tree import DecisionTreeClassifier\n",
    "from sklearn.metrics import accuracy_score, precision_score, recall_score"
   ]
  },
  {
   "cell_type": "code",
   "execution_count": 44,
   "metadata": {},
   "outputs": [
    {
     "name": "stdout",
     "output_type": "stream",
     "text": [
      "___Train set scores___\n",
      "Accuracy score: 0.7569086379699902\n",
      "Precision score: 0.7410507209841686\n",
      "Recall score: 0.8186476551186365\n",
      "___Test set scores___\n",
      "Accuracy score: 0.7340129749768304\n",
      "Precision score: 0.7246203037569944\n",
      "Recall score: 0.797975352112676\n"
     ]
    }
   ],
   "source": [
    "#tree_depth = 3\n",
    "clf1 = DecisionTreeClassifier(max_depth = 8, min_impurity_decrease=0.0001)\n",
    "clf1.fit(X_train, y_train)\n",
    "\n",
    "correct = sum(y_test == clf1.predict(X_test))\n",
    "total = len(X_test)\n",
    "\n",
    "# your code here\n",
    "y_true = y_train\n",
    "y_pred = clf1.predict(X_train)\n",
    "\n",
    "print(\"___Train set scores___\")\n",
    "print(\"Accuracy score: \" + str(accuracy_score(y_true, y_pred)))\n",
    "print(\"Precision score: \" + str(precision_score(y_true, y_pred)))\n",
    "print(\"Recall score: \" + str(recall_score(y_true, y_pred)))\n",
    "\n",
    "# your code here\n",
    "y_true = y_test\n",
    "y_pred = clf1.predict(X_test)\n",
    "\n",
    "print(\"___Test set scores___\")\n",
    "print(\"Accuracy score: \" + str(accuracy_score(y_true, y_pred)))\n",
    "print(\"Precision score: \" + str(precision_score(y_true, y_pred)))\n",
    "print(\"Recall score: \" + str(recall_score(y_true, y_pred)))"
   ]
  },
  {
   "cell_type": "code",
   "execution_count": 43,
   "metadata": {},
   "outputs": [
    {
     "data": {
      "text/plain": [
       "'test.pdf.pdf'"
      ]
     },
     "execution_count": 43,
     "metadata": {},
     "output_type": "execute_result"
    }
   ],
   "source": [
    "# graphing stuff\n",
    "import sklearn.tree as tree\n",
    "import graphviz\n",
    "dot_data = tree.export_graphviz(clf1, out_file=None)\n",
    "graph = graphviz.Source(dot_data)\n",
    "predictors = X_train.columns\n",
    "dot_data = tree.export_graphviz(clf1, out_file=None, feature_names = predictors, filled = True, rounded = True, special_characters = True)\n",
    "graph = graphviz.Source(dot_data)\n",
    "graph.render(\"test.pdf\", view=True)"
   ]
  },
  {
   "cell_type": "code",
   "execution_count": null,
   "metadata": {},
   "outputs": [],
   "source": []
  }
 ],
 "metadata": {
  "kernelspec": {
   "display_name": "Python 3",
   "language": "python",
   "name": "python3"
  },
  "language_info": {
   "codemirror_mode": {
    "name": "ipython",
    "version": 3
   },
   "file_extension": ".py",
   "mimetype": "text/x-python",
   "name": "python",
   "nbconvert_exporter": "python",
   "pygments_lexer": "ipython3",
   "version": "3.8.2"
  }
 },
 "nbformat": 4,
 "nbformat_minor": 4
}
