{
 "cells": [
  {
   "cell_type": "markdown",
   "metadata": {},
   "source": [
    "# Match state\n",
    "Trying to generate a way to represent the current state of the game in a vector that can be plugged into modeling methods."
   ]
  },
  {
   "cell_type": "code",
   "execution_count": 1,
   "metadata": {},
   "outputs": [],
   "source": [
    "from matplotlib import pyplot as plt\n",
    "import numpy as np\n",
    "import pandas as pd\n",
    "\n",
    "import leaguedata as ld\n",
    "\n",
    "#Progress bars wooo\n",
    "from ipywidgets import IntProgress\n",
    "from IPython.display import display\n",
    "from IPython.display import Markdown"
   ]
  },
  {
   "cell_type": "code",
   "execution_count": 63,
   "metadata": {},
   "outputs": [
    {
     "name": "stdout",
     "output_type": "stream",
     "text": [
      "7620\n"
     ]
    }
   ],
   "source": [
    "matches = ld.get_all_matches()\n",
    "print(len(matches))\n",
    "\n",
    "\n",
    "def get_match_state(match_num, min_num):\n",
    "    match_state = []\n",
    "    \n",
    "    match = matches[match_num]\n",
    "    \n",
    "    gold_types = ['goldblue', 'goldred', 'goldblueTop', \n",
    "                  'goldblueJungle', 'goldblueMiddle', 'goldblueADC', \n",
    "                  'goldblueSupport', 'goldredTop', 'goldredJungle',\n",
    "                  'goldredMiddle', 'goldredADC', 'goldredSupport']\n",
    "    \n",
    "    for gold_type in gold_types:\n",
    "        gold = match.gold_type(gold_type)[min_num]\n",
    "        match_state.append(gold)\n",
    "        \n",
    "\n",
    "    bkills = matches[match_num].blue_kills().values\n",
    "    num_bkills = 0\n",
    "    for kill in bkills:\n",
    "        if(kill[2] < min_num):\n",
    "            num_bkills +=1\n",
    "            \n",
    "    match_state.append(num_bkills)\n",
    "    \n",
    "    rkills = matches[match_num].red_kills().values\n",
    "    num_rkills = 0\n",
    "    for kill in rkills:\n",
    "        if(kill[2] < min_num):\n",
    "            num_rkills +=1\n",
    "            \n",
    "    match_state.append(num_rkills)\n",
    "    \n",
    "    bturrets = matches[match_num].blue_structures().values\n",
    "    num_bturrets = 0\n",
    "    num_binhibs = 0\n",
    "    for turret in bturrets:\n",
    "        if(turret[2] < min_num and turret[1] == 'bTowers'):\n",
    "            num_bturrets +=1\n",
    "        if(turret[2] < min_num and turret[1] == 'bInhibs'):\n",
    "            num_binhibs +=1\n",
    "            \n",
    "    match_state.append(num_bturrets)\n",
    "    match_state.append(num_binhibs)\n",
    "    \n",
    "    return match_state"
   ]
  },
  {
   "cell_type": "code",
   "execution_count": 64,
   "metadata": {},
   "outputs": [
    {
     "data": {
      "text/plain": [
       "[55837.0,\n",
       " 59648.0,\n",
       " 12599.0,\n",
       " 9010.0,\n",
       " 13082.0,\n",
       " 13769.0,\n",
       " 7377.0,\n",
       " 11749.0,\n",
       " 11088.0,\n",
       " 12570.0,\n",
       " 15257.0,\n",
       " 8984.0,\n",
       " 11,\n",
       " 20,\n",
       " 5,\n",
       " 0]"
      ]
     },
     "execution_count": 64,
     "metadata": {},
     "output_type": "execute_result"
    }
   ],
   "source": [
    "get_match_state(99, 35)"
   ]
  },
  {
   "cell_type": "code",
   "execution_count": 15,
   "metadata": {},
   "outputs": [
    {
     "data": {
      "text/plain": [
       "2711"
      ]
     },
     "execution_count": 15,
     "metadata": {},
     "output_type": "execute_result"
    }
   ],
   "source": [
    "matches[0].gold_type('goldblue')[2]"
   ]
  },
  {
   "cell_type": "code",
   "execution_count": 55,
   "metadata": {},
   "outputs": [
    {
     "data": {
      "text/html": [
       "<div>\n",
       "<style scoped>\n",
       "    .dataframe tbody tr th:only-of-type {\n",
       "        vertical-align: middle;\n",
       "    }\n",
       "\n",
       "    .dataframe tbody tr th {\n",
       "        vertical-align: top;\n",
       "    }\n",
       "\n",
       "    .dataframe thead th {\n",
       "        text-align: right;\n",
       "    }\n",
       "</style>\n",
       "<table border=\"1\" class=\"dataframe\">\n",
       "  <thead>\n",
       "    <tr style=\"text-align: right;\">\n",
       "      <th></th>\n",
       "      <th>Address</th>\n",
       "      <th>Team</th>\n",
       "      <th>Time</th>\n",
       "      <th>Lane</th>\n",
       "      <th>Type</th>\n",
       "    </tr>\n",
       "  </thead>\n",
       "  <tbody>\n",
       "    <tr>\n",
       "      <th>0</th>\n",
       "      <td>http://matchhistory.na.leagueoflegends.com/en/...</td>\n",
       "      <td>bTowers</td>\n",
       "      <td>27.542</td>\n",
       "      <td>MID_LANE</td>\n",
       "      <td>BASE_TURRET</td>\n",
       "    </tr>\n",
       "    <tr>\n",
       "      <th>1</th>\n",
       "      <td>http://matchhistory.na.leagueoflegends.com/en/...</td>\n",
       "      <td>bTowers</td>\n",
       "      <td>39.269</td>\n",
       "      <td>MID_LANE</td>\n",
       "      <td>NEXUS_TURRET</td>\n",
       "    </tr>\n",
       "    <tr>\n",
       "      <th>2</th>\n",
       "      <td>http://matchhistory.na.leagueoflegends.com/en/...</td>\n",
       "      <td>bTowers</td>\n",
       "      <td>33.583</td>\n",
       "      <td>BOT_LANE</td>\n",
       "      <td>INNER_TURRET</td>\n",
       "    </tr>\n",
       "    <tr>\n",
       "      <th>3</th>\n",
       "      <td>http://matchhistory.na.leagueoflegends.com/en/...</td>\n",
       "      <td>bTowers</td>\n",
       "      <td>23.038</td>\n",
       "      <td>TOP_LANE</td>\n",
       "      <td>INNER_TURRET</td>\n",
       "    </tr>\n",
       "    <tr>\n",
       "      <th>4</th>\n",
       "      <td>http://matchhistory.na.leagueoflegends.com/en/...</td>\n",
       "      <td>bTowers</td>\n",
       "      <td>16.556</td>\n",
       "      <td>BOT_LANE</td>\n",
       "      <td>OUTER_TURRET</td>\n",
       "    </tr>\n",
       "    <tr>\n",
       "      <th>5</th>\n",
       "      <td>http://matchhistory.na.leagueoflegends.com/en/...</td>\n",
       "      <td>bTowers</td>\n",
       "      <td>15.014</td>\n",
       "      <td>MID_LANE</td>\n",
       "      <td>OUTER_TURRET</td>\n",
       "    </tr>\n",
       "    <tr>\n",
       "      <th>6</th>\n",
       "      <td>http://matchhistory.na.leagueoflegends.com/en/...</td>\n",
       "      <td>bTowers</td>\n",
       "      <td>39.376</td>\n",
       "      <td>MID_LANE</td>\n",
       "      <td>NEXUS_TURRET</td>\n",
       "    </tr>\n",
       "    <tr>\n",
       "      <th>7</th>\n",
       "      <td>http://matchhistory.na.leagueoflegends.com/en/...</td>\n",
       "      <td>bTowers</td>\n",
       "      <td>15.217</td>\n",
       "      <td>MID_LANE</td>\n",
       "      <td>INNER_TURRET</td>\n",
       "    </tr>\n",
       "    <tr>\n",
       "      <th>8</th>\n",
       "      <td>http://matchhistory.na.leagueoflegends.com/en/...</td>\n",
       "      <td>bTowers</td>\n",
       "      <td>17.856</td>\n",
       "      <td>TOP_LANE</td>\n",
       "      <td>OUTER_TURRET</td>\n",
       "    </tr>\n",
       "    <tr>\n",
       "      <th>97382</th>\n",
       "      <td>http://matchhistory.na.leagueoflegends.com/en/...</td>\n",
       "      <td>bInhibs</td>\n",
       "      <td>36.686</td>\n",
       "      <td>MID_LANE</td>\n",
       "      <td>INHIBITOR</td>\n",
       "    </tr>\n",
       "    <tr>\n",
       "      <th>97383</th>\n",
       "      <td>http://matchhistory.na.leagueoflegends.com/en/...</td>\n",
       "      <td>bInhibs</td>\n",
       "      <td>29.274</td>\n",
       "      <td>MID_LANE</td>\n",
       "      <td>INHIBITOR</td>\n",
       "    </tr>\n",
       "  </tbody>\n",
       "</table>\n",
       "</div>"
      ],
      "text/plain": [
       "                                                 Address     Team    Time  \\\n",
       "0      http://matchhistory.na.leagueoflegends.com/en/...  bTowers  27.542   \n",
       "1      http://matchhistory.na.leagueoflegends.com/en/...  bTowers  39.269   \n",
       "2      http://matchhistory.na.leagueoflegends.com/en/...  bTowers  33.583   \n",
       "3      http://matchhistory.na.leagueoflegends.com/en/...  bTowers  23.038   \n",
       "4      http://matchhistory.na.leagueoflegends.com/en/...  bTowers  16.556   \n",
       "5      http://matchhistory.na.leagueoflegends.com/en/...  bTowers  15.014   \n",
       "6      http://matchhistory.na.leagueoflegends.com/en/...  bTowers  39.376   \n",
       "7      http://matchhistory.na.leagueoflegends.com/en/...  bTowers  15.217   \n",
       "8      http://matchhistory.na.leagueoflegends.com/en/...  bTowers  17.856   \n",
       "97382  http://matchhistory.na.leagueoflegends.com/en/...  bInhibs  36.686   \n",
       "97383  http://matchhistory.na.leagueoflegends.com/en/...  bInhibs  29.274   \n",
       "\n",
       "           Lane          Type  \n",
       "0      MID_LANE   BASE_TURRET  \n",
       "1      MID_LANE  NEXUS_TURRET  \n",
       "2      BOT_LANE  INNER_TURRET  \n",
       "3      TOP_LANE  INNER_TURRET  \n",
       "4      BOT_LANE  OUTER_TURRET  \n",
       "5      MID_LANE  OUTER_TURRET  \n",
       "6      MID_LANE  NEXUS_TURRET  \n",
       "7      MID_LANE  INNER_TURRET  \n",
       "8      TOP_LANE  OUTER_TURRET  \n",
       "97382  MID_LANE     INHIBITOR  \n",
       "97383  MID_LANE     INHIBITOR  "
      ]
     },
     "execution_count": 55,
     "metadata": {},
     "output_type": "execute_result"
    }
   ],
   "source": [
    "matches[0].blue_structures()"
   ]
  }
 ],
 "metadata": {
  "kernelspec": {
   "display_name": "Python 3",
   "language": "python",
   "name": "python3"
  },
  "language_info": {
   "codemirror_mode": {
    "name": "ipython",
    "version": 3
   },
   "file_extension": ".py",
   "mimetype": "text/x-python",
   "name": "python",
   "nbconvert_exporter": "python",
   "pygments_lexer": "ipython3",
   "version": "3.8.2"
  }
 },
 "nbformat": 4,
 "nbformat_minor": 4
}
