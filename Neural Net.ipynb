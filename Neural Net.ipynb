{
 "cells": [
  {
   "cell_type": "code",
   "execution_count": 136,
   "metadata": {},
   "outputs": [],
   "source": [
    "from matplotlib import pyplot as plt\n",
    "import numpy as np\n",
    "import pandas as pd\n",
    "\n",
    "import leaguedata as ld\n",
    "\n",
    "from sklearn.model_selection import train_test_split\n",
    "from sklearn.neural_network import MLPClassifier\n",
    "from sklearn.model_selection import train_test_split\n",
    "from sklearn.metrics import accuracy_score, precision_score, recall_score\n",
    "from sklearn.preprocessing import StandardScaler"
   ]
  },
  {
   "cell_type": "code",
   "execution_count": 137,
   "metadata": {},
   "outputs": [
    {
     "name": "stdout",
     "output_type": "stream",
     "text": [
      "Splitting: 21577 samples\n",
      "0.20002780738749595 0.7999721926125041\n"
     ]
    }
   ],
   "source": [
    "data1 = pd.read_csv(\"final_data_1.csv\")\n",
    "data2 = pd.read_csv(\"final_data_2.csv\")\n",
    "data = data1.append(data2)\n",
    "data = data[data['Minute'] > 0]\n",
    "\n",
    "y = data['Blue win'].values\n",
    "X = data.drop(['Blue win','Address'], axis=1)\n",
    "\n",
    "# Scale X\n",
    "sc = StandardScaler()\n",
    "X_scaled = sc.fit_transform(X)\n",
    "\n",
    "print(\"Splitting: \" + str(len(data)) + \" samples\")\n",
    "\n",
    "X_train, X_test, y_train, y_test = train_test_split(X_scaled, y, random_state=0, test_size=0.2)\n",
    "print(len(X_test)/len(X), len(X_train)/len(X))"
   ]
  },
  {
   "cell_type": "code",
   "execution_count": 139,
   "metadata": {},
   "outputs": [
    {
     "data": {
      "text/plain": [
       "array([[-1.54997504, -0.9302316 , -0.88945976, ..., -1.3504197 ,\n",
       "        -0.03522945, -0.02165686],\n",
       "       [-1.4652426 , -0.9302316 , -0.88945976, ..., -1.3504197 ,\n",
       "        -0.03522945, -0.02165686],\n",
       "       [-1.38051015, -0.9302316 , -0.88945976, ..., -1.33554904,\n",
       "        -0.03863914, -0.03066388],\n",
       "       ...,\n",
       "       [ 1.58512544,  2.63503413,  1.81775659, ...,  1.89274063,\n",
       "         0.08605822, -1.89447376],\n",
       "       [ 1.66985788,  2.63503413,  2.026004  , ...,  1.95141945,\n",
       "        -0.48506543, -2.58351083],\n",
       "       [ 1.75459033,  2.63503413,  2.026004  , ...,  2.02265795,\n",
       "        -0.80922985, -3.21979249]])"
      ]
     },
     "execution_count": 139,
     "metadata": {},
     "output_type": "execute_result"
    }
   ],
   "source": []
  },
  {
   "cell_type": "code",
   "execution_count": 171,
   "metadata": {},
   "outputs": [
    {
     "name": "stdout",
     "output_type": "stream",
     "text": [
      "Training score: \n",
      "0.7168458781362007\n",
      "Testing score: \n",
      "0.7173308619091752\n"
     ]
    }
   ],
   "source": [
    "regr = MLPClassifier(hidden_layer_sizes=(2), max_iter=300,activation = 'relu',solver='adam',random_state=15, verbose=False)\n",
    "regr.fit(X_train, y_train)\n",
    "\n",
    "print(\"Training score: \")\n",
    "print(regr.score(X_train, y_train))\n",
    "print(\"Testing score: \")\n",
    "print(regr.score(X_test, y_test))"
   ]
  },
  {
   "cell_type": "code",
   "execution_count": 170,
   "metadata": {},
   "outputs": [
    {
     "name": "stdout",
     "output_type": "stream",
     "text": [
      "Test set scores\n",
      "Accuracy score: 0.7173308619091752\n",
      "Precision score: 0.6849552411204158\n",
      "Recall score: 0.8453314326443335\n"
     ]
    }
   ],
   "source": [
    "y_true = y_test\n",
    "y_pred = regr.predict(X_test)\n",
    "\n",
    "print(\"Test set scores\")\n",
    "print(\"Accuracy score: \" + str(accuracy_score(y_true, y_pred)))\n",
    "print(\"Precision score: \" + str(precision_score(y_true, y_pred)))\n",
    "print(\"Recall score: \" + str(recall_score(y_true, y_pred)))"
   ]
  }
 ],
 "metadata": {
  "kernelspec": {
   "display_name": "Python 3",
   "language": "python",
   "name": "python3"
  },
  "language_info": {
   "codemirror_mode": {
    "name": "ipython",
    "version": 3
   },
   "file_extension": ".py",
   "mimetype": "text/x-python",
   "name": "python",
   "nbconvert_exporter": "python",
   "pygments_lexer": "ipython3",
   "version": "3.8.2"
  }
 },
 "nbformat": 4,
 "nbformat_minor": 4
}
